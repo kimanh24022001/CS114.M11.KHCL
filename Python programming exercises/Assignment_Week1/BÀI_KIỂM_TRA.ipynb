{
  "nbformat": 4,
  "nbformat_minor": 0,
  "metadata": {
    "colab": {
      "name": "BÀI KIỂM TRA.ipynb",
      "provenance": []
    },
    "kernelspec": {
      "name": "python3",
      "display_name": "Python 3"
    },
    "language_info": {
      "name": "python"
    }
  },
  "cells": [
    {
      "cell_type": "markdown",
      "source": [
        "# **BÀI KIỂM TRA**\n",
        "\n",
        "Alice và Bob là đôi bạn thân trong lớp và thường giúp nhau trong giờ học. Hôm nay sẽ có tiết kiểm tra toán và như mọi khi – sẽ có k đề khác nhau. Lớp học có n học sinh. Các bàn trong lớp xếp thành một hàng dọc, mỗi bàn 2 người ngồi. Vị trí bên trái của bàn đánh số là 1, vị trí bên phải – đánh số 2. Đề bài được phát bắt đầu từ vị trí 1 của bàn 1 rồi đến vị trí 2 của bàn 1, tiếp theo là vị trí 1 của bàn 2, rồi tới vị trí 2 của bàn 2, . . . lần lượt các đề 1, đề 2, đề 3, . . . cho tới đề k rồi lại quay lại đề 1, đề 2, . . . cho tới khi tất cả các học sinh đều nhận được đề.\n",
        "\n",
        "Alice đến trước và ngồi vào vị trí quen thuộc của mình: hàng p và vị trí q. Bob đến sau và muốn ngồi vào nơi sẽ nhận được cùng đề với Alice và ở dãy bàn gần với dãy bàn của Alice nhất. Nếu có 2 cách ngồi thì Bob sẽ chọn bàn ở phía trước của Alice.\n",
        "\n",
        "Hãy xác định bàn u và vị trí v trong bàn nơi Bob cần phải ngồi. Nếu không có cách ngồi thỏa mãn thì đưa ra một số -1.\n",
        "\n",
        "Dữ liệu: Vào từ thiết bị nhập chuẩn:\n",
        "\n",
        "Dòng đầu tiên chứa một số nguyên n (2 ≤ n ≤ 109),\n",
        "Dòng thứ 2 chứa số nguyên k (2 ≤ k ≤ n),\n",
        "Dòng thứ 3 chứa số nguyên p (1 ≤ p ≤ (n+1)/2),\n",
        "Dòng thứ 4 chứa số nguyên q (1 ≤ q ≤ 2).\n",
        "Kết quả: Đưa ra thiết bị xuất chuẩn một dòng 2 số nguyên u và v tìm được hoặc số -1 nếu không có cách ngồi thỏa mãn điều kiện đã nêu.\n",
        "\n",
        "Ví dụ:\n",
        "\n",
        "Input: 25 2 1 2\n",
        "\n",
        "\n",
        "Output: 2 2\n",
        "\n",
        "**Python code**\n",
        "\n",
        "\n"
      ],
      "metadata": {
        "id": "hw5yX8lVSLvx"
      }
    },
    {
      "cell_type": "code",
      "execution_count": null,
      "metadata": {
        "id": "4O7InQybPlwn"
      },
      "outputs": [],
      "source": [
        "n=int(input())\n",
        "k=int(input())\n",
        "p=int(input())\n",
        "q=int(input())\n",
        "def uAndv(n,k,p,q):\n",
        "   timeOfAlice=(p-1)*2+q#time of waitting\n",
        "   timeOfBob=timeOfAlice-k\n",
        "   if timeOfBob<=0:\n",
        "     timeOfBob=timeOfAlice+k\n",
        "   if timeOfBob>n:\n",
        "   \t print(-1)\n",
        "   \t return\n",
        "   if (timeOfBob%2==0):\n",
        "       positonOfBob=2\n",
        "   else:\n",
        "   \t   positonOfBob=1\n",
        "   if timeOfBob%2==0:\n",
        "   \t    row=timeOfBob/2\n",
        "   else:\n",
        "   \t    row=timeOfBob/2+1\n",
        "   print(int(row),positonOfBob)\n",
        "uAndv(n,k,p,q)"
      ]
    }
  ]
}