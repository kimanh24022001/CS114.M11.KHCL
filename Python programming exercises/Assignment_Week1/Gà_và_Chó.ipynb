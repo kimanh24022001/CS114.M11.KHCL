{
  "nbformat": 4,
  "nbformat_minor": 0,
  "metadata": {
    "colab": {
      "name": "Gà và Chó.ipynb",
      "provenance": []
    },
    "kernelspec": {
      "name": "python3",
      "display_name": "Python 3"
    },
    "language_info": {
      "name": "python"
    }
  },
  "cells": [
    {
      "cell_type": "markdown",
      "source": [
        "# **Gà và Chó**\n",
        "\n",
        "Vừa gà vừa chó\n",
        "\n",
        "Bó lại cho tròn\n",
        "\n",
        "xxx con\n",
        "\n",
        "yy chân chẵn\n",
        "\n",
        "Hãy xác định số con gà và số con chó thỏa mãn yêu cầu.\n",
        "\n",
        "Dữ liệu: Vào từ thiết bị nhập chuẩn gồm 1 dòng ghi 2 số nguyên xxx và yy (2≤ xxx, yy ≤ 109)\n",
        "\n",
        "Kết quả: Đưa ra thiết bị xuất chuẩn một dòng 2 số nguyên số gà và số chó tìm được.\n",
        "\n",
        "Dữ liệu luôn bảo đảm có kết quả.\n",
        "\n",
        "\n",
        "Ví dụ:\n",
        "\n",
        "Input: 5 8\n",
        "\n",
        "Output: 2\n",
        "\n",
        "**Python code**\n",
        "\n",
        "\n"
      ],
      "metadata": {
        "id": "hw5yX8lVSLvx"
      }
    },
    {
      "cell_type": "code",
      "execution_count": null,
      "metadata": {
        "id": "4O7InQybPlwn"
      },
      "outputs": [],
      "source": [
        "numberOfAnimal,numberOfFeetAnimal=map(int,input().split())\n",
        "def chickenAndDog(numberOfAnimal,numberOfFeetAnimal):\n",
        "   numberOfDog=int((numberOfFeetAnimal-numberOfAnimal*2)/2)\n",
        "   numberOfChicken=numberOfAnimal-numberOfDog\n",
        "   print(numberOfChicken,numberOfDog)\n",
        "chickenAndDog(numberOfAnimal,numberOfFeetAnimal)"
      ]
    }
  ]
}