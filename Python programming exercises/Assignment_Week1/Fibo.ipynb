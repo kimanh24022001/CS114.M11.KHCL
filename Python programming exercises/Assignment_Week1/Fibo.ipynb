{
  "nbformat": 4,
  "nbformat_minor": 0,
  "metadata": {
    "colab": {
      "name": "Fibo.ipynb",
      "provenance": []
    },
    "kernelspec": {
      "name": "python3",
      "display_name": "Python 3"
    },
    "language_info": {
      "name": "python"
    }
  },
  "cells": [
    {
      "cell_type": "markdown",
      "source": [
        "\n",
        "# **Fibo**\n",
        "Nhập vào số nguyên x sao cho 1 ≤ x ≤ 30. Nếu x không thỏa điều kiện, chương trình xuất ra màn hình thông báo “So <x> khong nam trong khoang [1,30].”. Nếu x nằm trong đoạn [1,30], chương trình xuất ra màn hình số Fibonacci thứ x.\n",
        "\n",
        "eg:\n",
        "\n",
        "Input : -6\n",
        "\n",
        "\n",
        "Output : So -6 khong nam trong khoang [1,30].\n",
        "\n",
        "**Python code**\n",
        "\n",
        "\n"
      ],
      "metadata": {
        "id": "hw5yX8lVSLvx"
      }
    },
    {
      "cell_type": "code",
      "execution_count": null,
      "metadata": {
        "id": "4O7InQybPlwn"
      },
      "outputs": [],
      "source": [
        "n = int(input())\n",
        "def fibo(n):\n",
        "  if n==1 or n==2:\n",
        "      return 1\n",
        "  else:\n",
        "  \treturn fibo(n-1)+fibo(n-2)\n",
        "if n>30 or n<1:\n",
        "\tprint(\"So\",n,\"khong nam trong khoang [1,30].\")\n",
        "else:\n",
        "    print(fibo(n))# your code goes here"
      ]
    }
  ]
}