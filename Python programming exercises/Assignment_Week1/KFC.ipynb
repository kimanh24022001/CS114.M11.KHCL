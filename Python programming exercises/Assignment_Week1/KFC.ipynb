{
  "nbformat": 4,
  "nbformat_minor": 0,
  "metadata": {
    "colab": {
      "name": "KFC.ipynb",
      "provenance": []
    },
    "kernelspec": {
      "name": "python3",
      "display_name": "Python 3"
    },
    "language_info": {
      "name": "python"
    }
  },
  "cells": [
    {
      "cell_type": "markdown",
      "source": [
        "# **KFC**\n",
        "\n",
        "Bình vừa mua xách tay một cái nhiệt kế hồng ngoại cực xịn cực chính xác chỉ mỗi tội nó hiển thị nhiệt độ theo thang đo độ F - Farenheit. Hãy giúp Bình đổi qua độ C - Celsius và độ K - Kelvin\n",
        "\n",
        "INPUT\n",
        "Một con số - nhiệt độ theo thang F\n",
        "\n",
        "OUTPUT\n",
        "Hai con số - nhiệt độ theo thang C và thang K\n",
        "\n",
        "Ví dụ:\n",
        "Input: 658.4\n",
        "\n",
        "Output: 348 621.15\n",
        "\n",
        "**Python code**\n",
        "\n",
        "\n"
      ],
      "metadata": {
        "id": "hw5yX8lVSLvx"
      }
    },
    {
      "cell_type": "code",
      "execution_count": null,
      "metadata": {
        "id": "4O7InQybPlwn"
      },
      "outputs": [],
      "source": [
        "from decimal import*\n",
        "f=float(input())\n",
        "def convert(f):\n",
        "   c=float(5.0*(f-32.0)/9.0)\n",
        "   if c-int(c)==0:\n",
        "   \t    c=int(c)\n",
        "   k=c+273.15\n",
        "   if k-int(k)==0:\n",
        "   \t    k=int(k)\n",
        "   getcontext().prec=6\n",
        "   print(Decimal(c).normalize(),Decimal(k).normalize())\n",
        "convert(f)"
      ]
    }
  ]
}