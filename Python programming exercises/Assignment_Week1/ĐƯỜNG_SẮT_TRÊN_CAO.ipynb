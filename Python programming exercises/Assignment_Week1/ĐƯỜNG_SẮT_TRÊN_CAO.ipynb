{
  "nbformat": 4,
  "nbformat_minor": 0,
  "metadata": {
    "colab": {
      "name": "ĐƯỜNG SẮT TRÊN CAO.ipynb",
      "provenance": []
    },
    "kernelspec": {
      "name": "python3",
      "display_name": "Python 3"
    },
    "language_info": {
      "name": "python"
    }
  },
  "cells": [
    {
      "cell_type": "markdown",
      "source": [
        "# **ĐƯỜNG SẮT TRÊN CAO**\n",
        "Thành phố đang xây dựng tuyến đường sắt trên cao phục vụ giao thông nội đô. Tuyến đường sẽ có k+1 ga đánh số từ 0 đến k. Tàu chạy suốt ngày đêm, từ ga 0 đến ga k và quay lại. Thời gian đi từ một ga tới ga kế tiếp là 1 phút, thời gian dừng ở mỗi ga là không đáng kể. Hệ thống giao thông này không những nhanh, chuẩn xác về thời gian mà còn là một phương tiện tuyệt vời để ngắm thành phố.\n",
        "\n",
        "BHL của UIT quyết định sẽ tặng cho tất cả tham gia lớp Python online mỗi bạn một vé đi tàu miễn phí trong năm học.\n",
        "\n",
        "Minh rất háo hức với thông báo này và quyết tâm phải giành được một vé. Phần lớn thời gian rảnh rỗi trong ngày Minh đều dùng để rèn luyện lập trình Python, còn ban đêm là thời gian của những giấc mơ đẹp. Minh thấy mình bước lên tàu ở ga số 0, ngồi cạnh cửa sổ say sưa ngắm nhìn quang cảnh thành phố từ trên cao. Thời gian trôi đi khá nhanh. Đồng hồ cho biết Minh đã ngồi trên tàu t phút và Minh quyết định xuống tàu . . .\n",
        "\n",
        "Chuông đồng hồ vang lên, Minh tỉnh giấc, vội vàng đi đánh răng, rửa mặt, chuẩn bị đi học. Trên đường tới trường Minh vẫn nghĩ về giấc mơ đêm qua và không thể nhớ được mình đã xuống ở ga số mấy.\n",
        "\n",
        "Hãy xác định ga mà Minh đã xuống trong giấc mơ sắp thành hiện thực của mình.\n",
        "**văn bản in đậm**\n",
        "Dữ liệu: Vào từ thiết bị nhập chuẩn gồm một dòng chứa 2 số nguyên k và t (0 < k, t ≤ 109)\n",
        "\n",
        "Kết quả: Đưa ra thiết bị xuất chuẩn một số nguyên – ga xác định được.\n",
        "\n",
        "Ví dụ:\n",
        "\n",
        "Input: 5 8\n",
        "\n",
        "Output: 2\n",
        "\n",
        "**Python code**\n",
        "\n",
        "\n"
      ],
      "metadata": {
        "id": "hw5yX8lVSLvx"
      }
    },
    {
      "cell_type": "code",
      "execution_count": null,
      "metadata": {
        "id": "4O7InQybPlwn"
      },
      "outputs": [],
      "source": [
        "k,t=map(int,input().split())\n",
        "def results(k,t,a):\n",
        "  if a%2==0:\n",
        "  \tprint(t%k)\n",
        "  else:\n",
        "    print(k-t%k)\n",
        "a=int(t/k)\n",
        "\n",
        "results(k,t,a)"
      ]
    }
  ]
}