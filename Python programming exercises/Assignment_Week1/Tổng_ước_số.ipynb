{
  "nbformat": 4,
  "nbformat_minor": 0,
  "metadata": {
    "colab": {
      "name": "Tổng ước số.ipynb",
      "provenance": []
    },
    "kernelspec": {
      "name": "python3",
      "display_name": "Python 3"
    },
    "language_info": {
      "name": "python"
    }
  },
  "cells": [
    {
      "cell_type": "markdown",
      "source": [
        "\n",
        "# **Tổng ước số**\n",
        "Viết chương trình tính tổng các ước số thực sự của một số nguyên dương.\n",
        "\n",
        "**INPUT**\n",
        "\n",
        "Số nguyên dương n giá trị không quá 1 tỷ.\n",
        "\n",
        "**OUTPUT**\n",
        "\n",
        "Tổng các ước số của n (không kể n)\n",
        "\n",
        "eg:\n",
        "\n",
        "Input 4  5  6   8  27\n",
        "\n",
        "\n",
        "Output  3  1  6  7  13\n",
        "\n",
        "**Python code**\n",
        "\n",
        "\n"
      ],
      "metadata": {
        "id": "hw5yX8lVSLvx"
      }
    },
    {
      "cell_type": "code",
      "execution_count": null,
      "metadata": {
        "id": "4O7InQybPlwn"
      },
      "outputs": [],
      "source": [
        "n = int(input())\n",
        "s=0\n",
        "for i in range(1, n):\n",
        "   if n % i == 0:\n",
        "        s = s + i\n",
        "print(s)"
      ]
    }
  ]
}