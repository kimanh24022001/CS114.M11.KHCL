{
  "nbformat": 4,
  "nbformat_minor": 0,
  "metadata": {
    "colab": {
      "name": "Tam giác.ipynb",
      "provenance": []
    },
    "kernelspec": {
      "name": "python3",
      "display_name": "Python 3"
    },
    "language_info": {
      "name": "python"
    }
  },
  "cells": [
    {
      "cell_type": "markdown",
      "source": [
        "\n",
        "# **Tam giác**\n",
        "Nhận dạng tam giác\n",
        "\n",
        "Viết chương trình nhập vào 3 số thực. Hãy cho biết đó có phải là độ dài 3 cạnh 1 tam giác hay không? Nếu phải thì đó là loại nào trong 4 loại sau: tam giác thường, cân, đều, vuông.\n",
        "\n",
        "Nếu là tam giác tính diện tích tam giác.\n",
        "\n",
        "INPUT:\n",
        "\n",
        "Dòng đầu tiên là độ dài cạnh 1.\n",
        "\n",
        "Dòng thứ hai là độ dài cạnh 2.\n",
        "\n",
        "Dòng thứ ba là độ dài cạnh 3.\n",
        "\n",
        "OUTPUT\n",
        "\n",
        "Định dạng như ví dụ minh họa. Diện tích làm tròn 02 chữ số sau dấu thập phân.\n",
        "\n",
        "eg:\n",
        "Input: 2 3 4\n",
        "Output: Tam giac thuong, dien tich = 2.9\n",
        "\n",
        "**Python code**\n",
        "\n",
        "\n"
      ],
      "metadata": {
        "id": "hw5yX8lVSLvx"
      }
    },
    {
      "cell_type": "code",
      "execution_count": null,
      "metadata": {
        "id": "4O7InQybPlwn"
      },
      "outputs": [],
      "source": [
        "import math\n",
        "a=float(input())\n",
        "b=float(input())\n",
        "c=float(input())\n",
        "def triangle(a,b,c):\n",
        "  if (a+b>c) and (b+c>a) and (a+c>b) and (a>0) and (b>0) and (c>0):\n",
        "      if (a==b)and(b==c):\n",
        "            print (\"Tam giac deu\",end=\"\")\n",
        "      elif ((a==b)and (a!=c)) or ((a==c)and(a!=b)) or ((b==c) and (b!=a)):\n",
        "            print (\"Tam giac can\",end=\"\")\n",
        "      elif (a*a==b*b+c*c) or (b*b==a*a+c*c)or (c*c==a*a+b*b):\n",
        "            print(\"Tam giac vuong\",end=\"\")\n",
        "      else:\n",
        "            print(\"Tam giac thuong\",end=\"\")\n",
        "      p=(a+b+c)/2\n",
        "      s=math.sqrt(p*(p-a)*(p-b)*(p-c))\n",
        "      if (s*10)%10==0:\n",
        "      \tprint (\", dien tich =\",int(s))\n",
        "      else:\n",
        "       print (\", dien tich =\",round(s,2))\n",
        "  else:\n",
        "        print (\"Khong phai tam giac\")\n",
        "triangle(a,b,c)"
      ]
    }
  ]
}