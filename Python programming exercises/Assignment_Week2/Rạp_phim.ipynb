{
  "nbformat": 4,
  "nbformat_minor": 0,
  "metadata": {
    "colab": {
      "name": "Rạp phim.ipynb",
      "provenance": []
    },
    "kernelspec": {
      "name": "python3",
      "display_name": "Python 3"
    },
    "language_info": {
      "name": "python"
    }
  },
  "cells": [
    {
      "cell_type": "markdown",
      "source": [
        "# **Rạp phim**\n",
        "Một rạp phim có diện tích sàn là n x m. Nhân lễ kỉ niệm, người ta cần lót gạch cho sàn của rạp bằng các viên gạch hình vuông với cạnh có kích thước là a. Xác định số lượng viên gạch cần ít nhất để phủ toàn bộ sàn, biết rằng diện tích toàn bộ số gạch được dùng có thể lớn hơn diện tích thực tế của sàn và các viên gạch phải được giữ nguyên, không được cắt ra.\n",
        "\n",
        "INPUT\n",
        "Ba số nguyên dương n, m, a\n",
        "\n",
        "OUTPUT\n",
        "Số lượng gạch ít nhất cần để lót sàn.\n",
        "\n",
        "VÍ DỤ\n",
        "\n",
        "INPUT:\n",
        "6 6 4\n",
        "\n",
        "OUTPUT:\n",
        "4\n",
        "\n",
        "**Python code**\n",
        "\n",
        "\n"
      ],
      "metadata": {
        "id": "hw5yX8lVSLvx"
      }
    },
    {
      "cell_type": "code",
      "execution_count": null,
      "metadata": {
        "id": "4O7InQybPlwn"
      },
      "outputs": [],
      "source": [
        "m,n,a=map(int,input().split())\n",
        "\n",
        "if m/a > int (m/a):\n",
        "\tchieudai=int(m/a)+1\n",
        "else:\n",
        "\tchieudai=m/a\n",
        "if n/a > int (n/a):\n",
        "\tchieurong=int(n/a)+1\n",
        "else:\n",
        "\tchieurong=n/a\n",
        "print(int(chieudai*chieurong))"
      ]
    }
  ]
}