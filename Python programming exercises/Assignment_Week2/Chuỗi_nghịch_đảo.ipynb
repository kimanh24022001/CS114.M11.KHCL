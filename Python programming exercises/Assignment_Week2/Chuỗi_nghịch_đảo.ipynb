{
  "nbformat": 4,
  "nbformat_minor": 0,
  "metadata": {
    "colab": {
      "name": "Chuỗi nghịch đảo.ipynb",
      "provenance": []
    },
    "kernelspec": {
      "name": "python3",
      "display_name": "Python 3"
    },
    "language_info": {
      "name": "python"
    }
  },
  "cells": [
    {
      "cell_type": "markdown",
      "source": [
        "# **Chuỗi nghịch đảo**\n",
        "Kiểm tra 2 chuỗi nhập vào có phải là chuỗi nghịch đảo hay không.\n",
        "\n",
        "INPUT\n",
        "Dòng đầu tiên chứa chuỗi thứ nhất. Dòng kế tiếp chứa chuỗi thứ 2.\n",
        "\n",
        "OUTPUT\n",
        "Xuất YES nếu 2 chuỗi là nghịch đảo. Ngược lại, xuất NO.\n",
        "\n",
        "\n",
        "VÍ DỤ\n",
        "\n",
        "INPUT: binh\n",
        "hnib\n",
        "\n",
        "OUTPUT: \n",
        "YES\n",
        "\n",
        "\n",
        "\n",
        "**Python code**\n",
        "\n",
        "\n"
      ],
      "metadata": {
        "id": "hw5yX8lVSLvx"
      }
    },
    {
      "cell_type": "markdown",
      "source": [
        ""
      ],
      "metadata": {
        "id": "wbTC8Q2BdDrs"
      }
    },
    {
      "cell_type": "code",
      "execution_count": null,
      "metadata": {
        "id": "4O7InQybPlwn"
      },
      "outputs": [],
      "source": [
        "str1=str(input())\n",
        "str2=str(input())\n",
        "if list(str2)==list(reversed(str1)):\n",
        "    print(\"YES\")\n",
        "else:\n",
        "    print(\"NO\")"
      ]
    }
  ]
}