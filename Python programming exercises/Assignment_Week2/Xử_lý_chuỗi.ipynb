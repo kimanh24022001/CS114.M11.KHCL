{
  "nbformat": 4,
  "nbformat_minor": 0,
  "metadata": {
    "colab": {
      "name": "Xử lý chuỗi.ipynb",
      "provenance": []
    },
    "kernelspec": {
      "name": "python3",
      "display_name": "Python 3"
    },
    "language_info": {
      "name": "python"
    }
  },
  "cells": [
    {
      "cell_type": "markdown",
      "source": [
        "\n",
        "# **Xử lý chuỗi**\n",
        " \n",
        "\n",
        "Bob đang tham dự một lớp học lập trình. Bài tập đầu tiên của Bob là viết một chương trình đơn giản. Chương trình sẽ yêu cầu nhập một chuỗi, sau đó nếu có chữ viết hoa trong chuỗi thì thay thế chúng bằng những chữ viết thường. Xóa hết tất cả các nguyên âm và chèn dấu \".\" trước mỗi phụ âm có trong chuỗi đó.\n",
        "\n",
        "Biết nguyên âm là những kí tự \"A\",\"O\",\"Y\",\"E\",\"U\",\"I\", và những kí tự còn lại là phụ âm. Chương trình sẽ sẽ nhận đầu vào là mỗi chuỗi và đầu ra là một chuỗi sau khi xử lí những yêu cầu trên.\n",
        "\n",
        "Bob đang loay hoay không biết làm bài này như thế nào. Bạn hãy giúp Bob nhé.\n",
        "\n",
        "INPUT:\n",
        "\n",
        "Dòng đầu tiên là một chuỗi gồm những cữ cái Latin viết hoa và viết thường, có độ dài từ 1 đến 100.\n",
        "\n",
        "OUTPUT:\n",
        "\n",
        "Chuỗi kết quả.\n",
        "\n",
        "VÍ DỤ:\n",
        "\n",
        "INPUT: tour\n",
        "\n",
        "OUTPUT:\n",
        ".t.r\n",
        "\n",
        "\n",
        "**Python code**\n",
        "\n",
        "\n"
      ],
      "metadata": {
        "id": "hw5yX8lVSLvx"
      }
    },
    {
      "cell_type": "markdown",
      "source": [
        ""
      ],
      "metadata": {
        "id": "wbTC8Q2BdDrs"
      }
    },
    {
      "cell_type": "code",
      "execution_count": null,
      "metadata": {
        "id": "4O7InQybPlwn"
      },
      "outputs": [],
      "source": [
        "import math\n",
        "string=str(input())\n",
        "def laNguyenAm(c):\n",
        "\tc=c.lower()\n",
        "\tif c=='u' or c=='e' or c=='o' or c=='a' or c=='i' or c=='y' :\n",
        "\t\treturn True\n",
        "\telse:\n",
        "\t\treturn False\n",
        "for i in range(0,len(string)):\n",
        "\tif laNguyenAm(string[i])==0:\n",
        "\t\tprint(\".\",end=\"\")\n",
        "\t\tprint(string[i].lower(),end=\"\")"
      ]
    }
  ]
}