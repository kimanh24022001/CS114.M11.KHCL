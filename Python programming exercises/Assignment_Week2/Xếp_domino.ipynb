{
  "nbformat": 4,
  "nbformat_minor": 0,
  "metadata": {
    "colab": {
      "name": "Xếp domino.ipynb",
      "provenance": []
    },
    "kernelspec": {
      "name": "python3",
      "display_name": "Python 3"
    },
    "language_info": {
      "name": "python"
    }
  },
  "cells": [
    {
      "cell_type": "markdown",
      "source": [
        "# **Xếp domino**\n",
        "\n",
        "Có một tấm ván gồm MxN hình vuông. Thêm vào đó, có thêm một số lượng không giới hạn các mảnh domino với kích thước 2x1 hình vuông. Bạn được phép quay mảnh domino. Nhiệm vụ cần thực hiện là xếp nhiều mảnh domino nhất lên tấm ván sao cho thỏa các điều kiện sau:\n",
        "\n",
        "- Mỗi mảnh domino phủ toàn bộ 2 hình vuông\n",
        "\n",
        "- Không có mảnh nào bị xếp chồng lên nhau\n",
        "\n",
        "- Mỗi mảnh phải nằm toàn bộ trên mặt ván\n",
        "\n",
        "Tìm số lượng lớn nhất domino có thể xếp lên tấm ván.\n",
        "\n",
        "INPUT\n",
        "Hai số nguyên dương M, N\n",
        "\n",
        "OUTPUT\n",
        "Số lượng tối đa mảnh domino có thể xếp được lên tấm ván\n",
        "\n",
        "VÍ DỤ\n",
        "INPUT: 2 4\n",
        "\n",
        "OUTPUT:\n",
        "4\n",
        "\n",
        "**Python code**\n",
        "\n",
        "\n"
      ],
      "metadata": {
        "id": "hw5yX8lVSLvx"
      }
    },
    {
      "cell_type": "code",
      "execution_count": null,
      "metadata": {
        "id": "4O7InQybPlwn"
      },
      "outputs": [],
      "source": [
        "m,n=map(int,input().split())\n",
        "if m%2!=0 and n%2!=0:\n",
        "\tprint(int((m*n-1)/2))\n",
        "else:\n",
        "\tprint(int(m*n/2))"
      ]
    }
  ]
}