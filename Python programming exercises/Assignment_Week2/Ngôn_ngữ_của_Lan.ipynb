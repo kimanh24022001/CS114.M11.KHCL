{
  "nbformat": 4,
  "nbformat_minor": 0,
  "metadata": {
    "colab": {
      "name": "Ngôn ngữ của Lan.ipynb",
      "provenance": []
    },
    "kernelspec": {
      "name": "python3",
      "display_name": "Python 3"
    },
    "language_info": {
      "name": "python"
    }
  },
  "cells": [
    {
      "cell_type": "markdown",
      "source": [
        "\n",
        "# **Ngôn ngữ của Lan**\n",
        "Lan đang học ở một trường ngoại ngữ ở Tp.HCM. Lan rất yêu thích ngôn ngữ, đặc biệt là ngữ pháp. Khi  bước vào năm thứ 3, Lan quyết định tạo ra một ngôn ngữ mới dễ sử dụng nhất có thể đủ để nói chuyện với bạn bè. Ngôn ngữ mới của Lan có tên là Lan's Language và thỏa theo những ngữ pháp sau:\n",
        "\n",
        "Có 3 loại từ trong Lan's Language: danh từ, động từ và tính từ. Mỗi từ trong Lan's Language thuộc một trong 3 loại từ đó.\n",
        "Có 2 giới tính: Nam và Nữ. Mỗi từ trong Lan's Language thuộc một trong 2 giới tính đó.\n",
        "Tính từ nam là những từ kết thúc với -lios và Tính từ nữ là những từ kết thúc với -liala.\n",
        "Danh từ nam là những từ kết thúc với -etr và  Danh từ nữ là những từ kết thúc với -etra.\n",
        "Động từ nam là những từ kết thúc với -initis và  Động từ nữ là những từ kết thúc với -inites.\n",
        "Các từ trong Lan's Language luôn kết thúc bằng 1 trong các đuôi trên.\n",
        "Các từ mà chỉ có mỗi đuôi như \"lios\", \"liala\", \"etr\"... cũng thuộc Lan's Language.\n",
        "Không có dấu câu, ngữ pháp chia thì và các dạng biến đổi từ trong Lan's Language.\n",
        "Một câu trong Lan's Language là một từ hợp lệ (thỏa những tính chất trong Lan's Language) hoặc là một mệnh đề hợp lệ.\n",
        "Một mệnh đề hợp lệ trong Lan's language phải thỏa 2 điều kiện sau:\n",
        "\n",
        "Những từ trong mệnh đề phải hợp lệ và được sắp xếp theo thứ tự: Tính từ + Danh từ + Động từ. Trong đó: Tính từ có thể có 1 hoặc nhiều hoặc không có nhưng phải đứng trước Danh từ. Chỉ có duy nhất một Danh từ trong câu. Động từ có thể có 1 hoặc nhiều hoặc không có nhưng phải đứng sau Danh từ.\n",
        "Tất cả các từ trong mệnh đề phải cùng giới tính.\n",
        "Cho một câu gồm một chuỗi các từ, nhiệm vụ của bạn là viết một chương trình kiểm tra xem câu được nhập vào có thỏa mãn những tính chất của Lan's language hay không? \n",
        "\n",
        "INPUT:\n",
        "\n",
        "Dòng đầu tiên là một hoặc nhiều từ được viết thường bằng những kí tự Latin. Tổng số kí tự nhập vào không quá \n",
        "10\n",
        "5\n",
        " (bao gồm cả khoảng trắng).\n",
        "\n",
        "OUTPUT:\n",
        "\n",
        "Nếu câu nhập vào thỏa mãn những tính chất của Lan's language, xuất YES\n",
        "Ngược lại xuất NO\n",
        "\n",
        " \n",
        "\n",
        "VÍ DỤ:\n",
        "\n",
        "INPUT: \n",
        "etis atis animatis etis atis amatis\n",
        "\n",
        "OUTPUT: NO\n",
        "\n",
        "**Python code**\n",
        "\n",
        "\n"
      ],
      "metadata": {
        "id": "hw5yX8lVSLvx"
      }
    },
    {
      "cell_type": "code",
      "execution_count": null,
      "metadata": {
        "id": "4O7InQybPlwn"
      },
      "outputs": [],
      "source": [
        "c=0\n",
        "count=0\n",
        "arr=[]\n",
        "numberOfEtra=0\n",
        "for i in list(map(str, input().split())):\n",
        "    if ('lios' in i) or ('liala' in i) or ('etr'  in i) or ('etra' in i) or ('initis'  in i) or ('inites'  in i):\n",
        "        c=c+1\n",
        "    arr.append(i)\n",
        "    count=count+1\n",
        "if(c==count):\n",
        "    for j in range(0,(len(arr)-1)):\n",
        "       if (('etr' in arr[j+1]) or ('etra' in arr[j+1])) and (('initis' in arr[j]) or ('linitesos' in arr[j])):\n",
        "       \t   c=0\n",
        "       if (('lios' in arr[j+1]) or ('liala' in arr[j+1])) and (('etr' in arr[j]) or ('etra' in arr[j])) :\n",
        "       \t   c=0\n",
        "       if(('initis' in arr[j]) or ('linitesos' in arr[j])) and (('lios' in arr[j+1]) or ('liala' in arr[j+1])):\n",
        "\t       c=0\n",
        "       if ('etr' in arr[j]) or ('etra' in arr[j]) :\n",
        "\t       numberOfEtra=numberOfEtra+1\n",
        "if ('etr' in arr[(len(arr)-1)]) or ('etra' in arr[(len(arr)-1)]) :\n",
        "\t     numberOfEtra=numberOfEtra+1\n",
        "if (c==count and count>1 and numberOfEtra==1 ) or (c==count and count==1):\n",
        "    print(\"YES\")\n",
        "else:\n",
        "    print(\"NO\")"
      ]
    }
  ]
}