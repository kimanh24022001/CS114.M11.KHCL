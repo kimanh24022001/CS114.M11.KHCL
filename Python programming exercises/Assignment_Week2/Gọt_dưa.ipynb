{
  "nbformat": 4,
  "nbformat_minor": 0,
  "metadata": {
    "colab": {
      "name": "Gọt dưa.ipynb",
      "provenance": []
    },
    "kernelspec": {
      "name": "python3",
      "display_name": "Python 3"
    },
    "language_info": {
      "name": "python"
    }
  },
  "cells": [
    {
      "cell_type": "markdown",
      "source": [
        "# **Gọt dưa**\n",
        "An và Bình rất thích ăn dưa hấu vì thế họ đi ra chợ chọn mua một trái to và chín nhất.  Về đến nhà, một vấn đề nảy sinh đó là việc chia phần trái dưa hấu cho cả 2, không chỉ thế, do 2 người bạn chỉ thích những con số chẵn, vì thế cần chia quả dưa hấu làm sao cho mỗi phần có khối lượng là một con số chẵn. Hãy giúp An và Bình kiểm tra xem có thể chia quả dưa hấu này hay không.\n",
        "\n",
        "INPUT\n",
        "Một số nguyên không âm\n",
        "\n",
        "OUTPUT\n",
        "Xuất YES nếu có thể chia, ngược lại NO\n",
        "\n",
        "VÍ DỤ\n",
        "INPUT: 8\n",
        "\n",
        "OUTPUT: \n",
        "YES\n",
        "\n",
        "\n",
        "\n",
        "**Python code**\n",
        "\n",
        "\n"
      ],
      "metadata": {
        "id": "hw5yX8lVSLvx"
      }
    },
    {
      "cell_type": "markdown",
      "source": [
        ""
      ],
      "metadata": {
        "id": "wbTC8Q2BdDrs"
      }
    },
    {
      "cell_type": "code",
      "execution_count": null,
      "metadata": {
        "id": "4O7InQybPlwn"
      },
      "outputs": [],
      "source": [
        "n=int(input())\n",
        "if n%2!=0   or n==2:\n",
        "    print(\"NO\")\n",
        "else:\n",
        "    print(\"YES\")"
      ]
    }
  ]
}