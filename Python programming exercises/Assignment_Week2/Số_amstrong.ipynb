{
  "nbformat": 4,
  "nbformat_minor": 0,
  "metadata": {
    "colab": {
      "name": "Số amstrong.ipynb",
      "provenance": []
    },
    "kernelspec": {
      "name": "python3",
      "display_name": "Python 3"
    },
    "language_info": {
      "name": "python"
    }
  },
  "cells": [
    {
      "cell_type": "markdown",
      "source": [
        "\n",
        "# **Số amstrong**\n",
        "Kiểm tra Số Armstrong (Số Armstrong là số có K chữ số và tổng lũy thừa bậc K của các chữ số bằng chính nó)\n",
        "\n",
        "INPUT\n",
        "Một số nguyên không âm\n",
        "\n",
        "OUTPUT\n",
        "Xuất True nếu số nhập vào là số Armstrong, ngược lại False\n",
        "\n",
        "VÍ DỤ:\n",
        "\n",
        "INPUT: 153\n",
        "\n",
        "OUTPUT:\n",
        "True\n",
        "\n",
        "\n",
        "\n",
        "**Python code**\n",
        "\n",
        "\n"
      ],
      "metadata": {
        "id": "hw5yX8lVSLvx"
      }
    },
    {
      "cell_type": "markdown",
      "source": [
        ""
      ],
      "metadata": {
        "id": "wbTC8Q2BdDrs"
      }
    },
    {
      "cell_type": "code",
      "execution_count": null,
      "metadata": {
        "id": "4O7InQybPlwn"
      },
      "outputs": [],
      "source": [
        "import math\n",
        "n=int(input())\n",
        "def findK(n):\n",
        "\tcount=0\n",
        "\ttemp=n\n",
        "\twhile int(temp)>0:\n",
        "\t\ttemp=temp/10\n",
        "\t\tcount=count+1\n",
        "\treturn count\n",
        "k=findK(n)\n",
        "def isAmstrongNumber(n,k):\n",
        "\ts=0\n",
        "\twhile int(n)>0:\n",
        "\t\ts=math.pow(n%10,k)+s\n",
        "\t\tn=int(n/10)\n",
        "\t\t\n",
        "\treturn s\t\n",
        "if isAmstrongNumber(n,k)==n:\n",
        "\tprint(True)\n",
        "else:\n",
        "\tprint(False)"
      ]
    }
  ]
}