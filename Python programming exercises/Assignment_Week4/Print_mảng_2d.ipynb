{
  "nbformat": 4,
  "nbformat_minor": 0,
  "metadata": {
    "colab": {
      "name": "Print mảng 2d.ipynb",
      "provenance": []
    },
    "kernelspec": {
      "name": "python3",
      "display_name": "Python 3"
    },
    "language_info": {
      "name": "python"
    }
  },
  "cells": [
    {
      "cell_type": "markdown",
      "source": [
        "\n",
        "# **Print mảng 2d**\n",
        "Bình đang làm bài tập mảng 2 chiều nâng rất rất cao. Bình cần xuất mảng ra màn hình để quan sát. Tuy nhiên do các số nguyên trong mảng độ dài khác nhau nên khi xuất ra nhìn rất lộn xộn, không biết được số nào ở cột nào. Bạn hãy viết giúp Bình hàm xuất mảng một cách ngay ngắn.\n",
        "\n",
        "INPUT\n",
        "Dòng đầu tiên chứa hai số r và c là số dòng và số cột của mảng, mỗi số không quá 1000.\n",
        "\n",
        "r dòng tiếp theo, mỗi dòng chứa c số nguyên. Đây là các phần tử trong mảng 2 chiều\n",
        "\n",
        "OUTPUT\n",
        "Mảng 2 chiều được canh lề phải ở các cột. Tức là chữ số cuối cùng của các cột được viết thẳng hàng với nhau. Các chỗ trống được lấp đầy bằng ký tự khoảng trắng\n",
        "\n",
        "Lưu ý là đê đảm bảo chính xác ở cuối mỗi dòng của ma trận chỉ được xuất ký tự xuống dòng, không được xuất khoảng trắng thừa.\n",
        "\n",
        "**Python code**\n",
        "\n",
        "\n"
      ],
      "metadata": {
        "id": "hw5yX8lVSLvx"
      }
    },
    {
      "cell_type": "markdown",
      "source": [
        ""
      ],
      "metadata": {
        "id": "wbTC8Q2BdDrs"
      }
    },
    {
      "cell_type": "code",
      "execution_count": null,
      "metadata": {
        "id": "4O7InQybPlwn"
      },
      "outputs": [],
      "source": [
        "r,c=map(int,input().split())\n",
        "a=[]\n",
        "b=[]\n",
        "\n",
        "for i in range (0,r):\n",
        "\tp=input()\n",
        "\tfor x in list(map(int,p.split())):\n",
        "\t\ta.append(x)\n",
        "\tb.append(a)\n",
        "\ta=[]\n",
        "for j in range(0,c):\n",
        "\ttemp=0\n",
        "\tg=[]\n",
        "\tfor t in range(0,r):\n",
        "\t\tg.append(b[t][j])\n",
        "\tif len(str(max(g)))> len(str(min(g))):\n",
        "\t\ttemp=len(str(max(g)))\n",
        "\telse:\n",
        "\t\ttemp=len(str(min(g)))\n",
        "\ta.append(temp)\n",
        "for t in range(0,r):\n",
        "\tfor j in range(0,c):\n",
        "\t\tif j!=c-1:\n",
        "\t\t\tif (a[j]-len(str(b[t][j])))==0:\n",
        "\t\t\t\tprint(b[t][j],end=\" \")\n",
        "\t\t\telse:\n",
        "\t\t\t    print((a[j]-len(str(b[t][j]))-1)*' ',b[t][j],end=\" \")\n",
        "\t\telse:\n",
        "\t\t\tif (a[j]-len(str(b[t][j])))==0:\n",
        "\t\t\t\tprint(b[t][j])\n",
        "\t\t\telse:\n",
        "\t\t\t\tprint((a[j]-len(str(b[t][j]))-1)*' ',b[t][j])"
      ]
    }
  ]
}