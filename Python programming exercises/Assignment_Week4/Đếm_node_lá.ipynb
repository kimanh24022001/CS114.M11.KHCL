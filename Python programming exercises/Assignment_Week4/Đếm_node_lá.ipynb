{
  "nbformat": 4,
  "nbformat_minor": 0,
  "metadata": {
    "colab": {
      "name": "Đếm node lá.ipynb",
      "provenance": []
    },
    "kernelspec": {
      "name": "python3",
      "display_name": "Python 3"
    },
    "language_info": {
      "name": "python"
    }
  },
  "cells": [
    {
      "cell_type": "markdown",
      "source": [
        "# **Đếm node lá**\n",
        "Cho một dãy số, hãy cho biết số node lá của cây nhị phân tìm kiếm thu được khi thêm lần lượt các số trong dãy vào cây.\n",
        "\n",
        "INPUT\n",
        "Một dãy số nguyên khác 0, mỗi số trên một hàng. Dãy số tận cùng bằng số 0\n",
        "\n",
        "OUTPUT\n",
        "Số node lá trong cây\n",
        "\n",
        "INPUT: \n",
        "393\n",
        "\n",
        "981\n",
        "\n",
        "841\n",
        "\n",
        "133\n",
        "\n",
        "891\n",
        "\n",
        "739\n",
        "\n",
        "663\n",
        "\n",
        "119\n",
        "\n",
        "497\n",
        "\n",
        "865\n",
        "\n",
        "54\n",
        "\n",
        "631\n",
        "\n",
        "561\n",
        "\n",
        "51\n",
        "\n",
        "227\n",
        "\n",
        "841\n",
        "\n",
        "352\n",
        "\n",
        "996\n",
        "\n",
        "505\n",
        "\n",
        "0\n",
        "\n",
        "OUTPUT: 5\n",
        "\n",
        "**Python code**\n",
        "\n",
        "\n"
      ],
      "metadata": {
        "id": "hw5yX8lVSLvx"
      }
    },
    {
      "cell_type": "markdown",
      "source": [
        ""
      ],
      "metadata": {
        "id": "wbTC8Q2BdDrs"
      }
    },
    {
      "cell_type": "code",
      "execution_count": null,
      "metadata": {
        "id": "4O7InQybPlwn"
      },
      "outputs": [],
      "source": [
        "class Node: \n",
        "\tdef __init__(self,key): \n",
        "\t\tself.left = None\n",
        "\t\tself.right = None\n",
        "\t\tself.val = key \n",
        "\n",
        "# A utility function to insert a new node with the given key \n",
        "def insert(root,key): \n",
        "\tif root is None: \n",
        "\t\treturn Node(key) \n",
        "\telse: \n",
        "\t\tif root.val == key: \n",
        "\t\t\treturn root \n",
        "\t\telif root.val < key: \n",
        "\t\t\troot.right = insert(root.right, key) \n",
        "\t\telse: \n",
        "\t\t\troot.left = insert(root.left, key) \n",
        "\treturn root \n",
        "\n",
        "# A utility function to do inorder tree traversal \n",
        "def inorder(root): \n",
        "\tif root: \n",
        "\t\tprint(root.val) \n",
        "\t\tinorder(root.left) \n",
        "\t\tinorder(root.right) \n",
        "def countLeaf(root,count): \n",
        "\tif root:\n",
        "\t\tcountLeaf(root.left,count)\n",
        "\t\tif root.right is None and root.left is None:\n",
        "\t\t\tcount.append(1)\n",
        "\t\tcountLeaf(root.right,count)\n",
        "count=[]\n",
        "p=int(input())\t\n",
        "r = Node(p) \n",
        "while p!=0:\n",
        "\tif p==0:\n",
        "\t\tbreak\n",
        "\tr = insert(r, p) \n",
        "\tp=int(input())\n",
        "countLeaf(r,count)\n",
        "print(len(count))"
      ]
    }
  ]
}