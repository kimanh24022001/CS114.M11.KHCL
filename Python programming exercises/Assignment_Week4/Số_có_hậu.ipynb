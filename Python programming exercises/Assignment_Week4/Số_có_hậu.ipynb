{
  "nbformat": 4,
  "nbformat_minor": 0,
  "metadata": {
    "colab": {
      "name": "Số có hậu.ipynb",
      "provenance": []
    },
    "kernelspec": {
      "name": "python3",
      "display_name": "Python 3"
    },
    "language_info": {
      "name": "python"
    }
  },
  "cells": [
    {
      "cell_type": "markdown",
      "source": [
        "\n",
        "# **Số có hậu**\n",
        "Jim thích các phim và truyện kết thúc có hậu. Một lần gặp may với số n và từ đó Jim rất có cảm tình với tất cả các số nguyên kết thúc bằng n, coi chúng là những số có hậu. Ví dụ với n = 25 thì các số 625, 553325,1025 là những số có hậu, còn 3255 – không có hậu!\n",
        "\n",
        "Jim không thích các ràng buộc và hạn chế. Nhưng trong thế giới thực của chúng ta ràng buộc và hạn chế là điều tất yếu. Một người bạn của Jim khuyên chỉ nên quan tâm đến các số nguyên không vượt quá m và dĩ nhiên, Jim muốn biết có bao nhiêu số có hậu không vượt quá m.\n",
        "\n",
        "Dữ liệu: Vào từ thiết bị nhập chuẩn gồm một dòng chứa 2 số nguyên n và m (1 ≤ n ≤ m ≤ 2×109).\n",
        "\n",
        "Kết quả: Đưa ra thiết bị xuất chuẩn một số nguyên – số lượng số có hậu tìm được.\n",
        "\n",
        "Ví dụ:\n",
        "\n",
        "INPUT: 23 122\n",
        "\n",
        "OUTPUT: 1\n",
        "\n",
        "\n",
        "**Python code**\n",
        "\n",
        "\n"
      ],
      "metadata": {
        "id": "hw5yX8lVSLvx"
      }
    },
    {
      "cell_type": "code",
      "source": [
        ""
      ],
      "metadata": {
        "id": "5NrLXwL_l9uM"
      },
      "execution_count": null,
      "outputs": []
    },
    {
      "cell_type": "markdown",
      "source": [
        ""
      ],
      "metadata": {
        "id": "wbTC8Q2BdDrs"
      }
    },
    {
      "cell_type": "code",
      "execution_count": null,
      "metadata": {
        "id": "4O7InQybPlwn"
      },
      "outputs": [],
      "source": [
        "n,m=map(int,input().split())\n",
        "count=0\n",
        "def demsochuso(n):\n",
        "\tcount=0\n",
        "\twhile n>0:\n",
        "\t\tn=int(n/10)\n",
        "\t\tcount=count+1\n",
        "\treturn count\n",
        "count=int((m-n)/(10**demsochuso(n)) +1)\n",
        "print(int(count))"
      ]
    }
  ]
}