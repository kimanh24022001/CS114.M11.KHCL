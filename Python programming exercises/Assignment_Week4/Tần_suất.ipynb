{
  "nbformat": 4,
  "nbformat_minor": 0,
  "metadata": {
    "colab": {
      "name": "Tần suất.ipynb",
      "provenance": []
    },
    "kernelspec": {
      "name": "python3",
      "display_name": "Python 3"
    },
    "language_info": {
      "name": "python"
    }
  },
  "cells": [
    {
      "cell_type": "markdown",
      "source": [
        "# **Tần suất**\n",
        " \n",
        "\n",
        "Viết chương trình nhập vào một dãy gồm \n",
        "n\n",
        " số và biến \n",
        "k\n",
        ". Đếm số lần xuất hiện của \n",
        "k\n",
        " trong dãy đó. \n",
        "\n",
        " INPUT:\n",
        "\n",
        "Dòng đầu tiên gồm một số nguyên dương \n",
        "q\n",
        " — số lượng testcase. Theo sau mỗi testcase gồm:\n",
        "\n",
        "Dòng thứ nhất là hai số nguyên dương \n",
        "n\n",
        ",\n",
        "k\n",
        " \n",
        "(\n",
        "1\n",
        "≤\n",
        "n\n",
        "≤\n",
        "1000\n",
        ")\n",
        ",\n",
        "(\n",
        "−\n",
        "10\n",
        "5\n",
        "≤\n",
        "k\n",
        "≤\n",
        "10\n",
        "5\n",
        ")\n",
        " — Số phần tử của dãy và giá trị cần tìm vị trí.\n",
        "\n",
        "Dòng thứ hai là giá trị các phần tử trong dãy \n",
        "a\n",
        "1\n",
        ",\n",
        "a\n",
        "2\n",
        ",\n",
        ".\n",
        ".\n",
        ".\n",
        ",\n",
        "a\n",
        "n\n",
        "(\n",
        "−\n",
        "10\n",
        "5\n",
        "≤\n",
        "a\n",
        "i\n",
        "≤\n",
        "10\n",
        "5\n",
        ")\n",
        "\n",
        "OUTPUT:\n",
        "\n",
        "Ứng với mỗi testcase, xuất ra trên một dòng số lần xuất hiện của \n",
        "k\n",
        ".\n",
        "\n",
        "\n",
        "**Python code**\n",
        "\n",
        "\n"
      ],
      "metadata": {
        "id": "hw5yX8lVSLvx"
      }
    },
    {
      "cell_type": "code",
      "source": [
        ""
      ],
      "metadata": {
        "id": "5NrLXwL_l9uM"
      },
      "execution_count": null,
      "outputs": []
    },
    {
      "cell_type": "markdown",
      "source": [
        ""
      ],
      "metadata": {
        "id": "wbTC8Q2BdDrs"
      }
    },
    {
      "cell_type": "code",
      "execution_count": null,
      "metadata": {
        "id": "4O7InQybPlwn"
      },
      "outputs": [],
      "source": [
        "q=int(input())\n",
        "count=0\n",
        "for i in range(0,q):\n",
        "\tn,k=map(int,input().split())\n",
        "\tfor j in list(map(int,input().split())):\n",
        "\t\tif k==j:\n",
        "\t\t\tcount+=1\n",
        "\tprint(count)\n",
        "\tcount=0"
      ]
    }
  ]
}