{
  "nbformat": 4,
  "nbformat_minor": 0,
  "metadata": {
    "colab": {
      "name": "Duyệt theo chiều rộng.ipynb",
      "provenance": []
    },
    "kernelspec": {
      "name": "python3",
      "display_name": "Python 3"
    },
    "language_info": {
      "name": "python"
    }
  },
  "cells": [
    {
      "cell_type": "markdown",
      "source": [
        "# **Duyệt theo chiều rộng**\n",
        "Cho một dãy số. Lần lượt thêm các số trong dãy vào một cây nhị phân tìm kiếm, sau đó duyệt và xuất cây ra màn hình theo thứ tự duyệt theo chiều rộng (các node có mức thấp được xuất trước, đối với các node có cùng mức xuất node có giá trị nhỏ trước)\n",
        "\n",
        "INPUT\n",
        "Một dãy số nguyên khác 0, mỗi số trên một hàng. Dãy số tận cùng bằng số 0\n",
        "\n",
        "OUTPUT\n",
        "Xuất trên một hàng giá trị các node trên cây khi duyệt theo chiều rộng\n",
        "\n",
        "\n",
        "\n",
        "**Python code**\n",
        "\n",
        "\n"
      ],
      "metadata": {
        "id": "hw5yX8lVSLvx"
      }
    },
    {
      "cell_type": "markdown",
      "source": [
        ""
      ],
      "metadata": {
        "id": "wbTC8Q2BdDrs"
      }
    },
    {
      "cell_type": "code",
      "execution_count": null,
      "metadata": {
        "id": "4O7InQybPlwn"
      },
      "outputs": [],
      "source": [
        "class Node: \n",
        "\tdef __init__(self,key): \n",
        "\t\tself.left = None\n",
        "\t\tself.right = None\n",
        "\t\tself.val = key \n",
        "\n",
        "# A utility function to insert a new node with the given key \n",
        "def insert(root,key): \n",
        "\tif root is None: \n",
        "\t\treturn Node(key) \n",
        "\telse: \n",
        "\t\tif root.val == key: \n",
        "\t\t\treturn root \n",
        "\t\telif root.val < key: \n",
        "\t\t\troot.right = insert(root.right, key) \n",
        "\t\telse: \n",
        "\t\t\troot.left = insert(root.left, key) \n",
        "\treturn root \n",
        "\n",
        "# A utility function to do inorder tree traversal \n",
        "def inorder(root): \n",
        "\tif root: \n",
        "\t\tprint(root.val) \n",
        "\t\tinorder(root.left) \n",
        "\t\tinorder(root.right) \n",
        "def countLeaf(root,count): \n",
        "\tif root:\n",
        "\t\tcountLeaf(root.left,count)\n",
        "\t\tif root.right is None and root.left is None:\n",
        "\t\t\tcount.append(1)\n",
        "\t\tcountLeaf(root.right,count)\n",
        "\n",
        "def highOfTree(root, i,h):\n",
        "\tif root:\n",
        "\t\tif i>len(h):\n",
        "\t\t\th.append(1)\n",
        "\t\thighOfTree(root.left,i+1,h)\n",
        "\t\thighOfTree(root.right,i+1,h)\n",
        "def getValueLevel(root, i, m):\n",
        "  if root:\n",
        "  \t   if i==m:\n",
        "  \t   \t    print(root.val,end=\" \")\n",
        "  \t   getValueLevel(root.left, i+1, m)\n",
        "  \t   getValueLevel(root.right, i+1, m)\n",
        "i=1\n",
        "h=[]\n",
        "p=int(input())\t\n",
        "r = Node(p) \n",
        "while p!=0:\n",
        "\tif p==0:\n",
        "\t\tbreak\n",
        "\tr = insert(r, p) \n",
        "\tp=int(input())\n",
        "highOfTree(r, i,h)\n",
        "for j in range(1,len(h)+1):\n",
        "\tgetValueLevel(r,i,j)"
      ]
    }
  ]
}