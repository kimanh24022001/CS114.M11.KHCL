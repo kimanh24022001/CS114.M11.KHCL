{
  "nbformat": 4,
  "nbformat_minor": 0,
  "metadata": {
    "colab": {
      "name": "Tìm số gần nhất.ipynb",
      "provenance": []
    },
    "kernelspec": {
      "name": "python3",
      "display_name": "Python 3"
    },
    "language_info": {
      "name": "python"
    }
  },
  "cells": [
    {
      "cell_type": "markdown",
      "source": [
        "# **Tìm số gần nhất (nhiều lần)**\n",
        "Cho mảng số nguyên A đã sắp xếp tăng dần, tìm trong mảng k số có giá trị gần với giá trị x nhất.\n",
        "\n",
        "INPUT\n",
        "Dòng đầu tiên cho biết số phần tử của mảng\n",
        "\n",
        "Dòng thứ 2 là toàn bộ mảng liệt kê trên một hàng, các phần tử cách nhau bởi khoảng trắng\n",
        "\n",
        "Các dòng sau đó, mỗi dòng chứa 02 số k  và x , \n",
        "k\n",
        "≤\n",
        "n\n",
        "\n",
        "Input kết thúc bằng một dòng trống không có nội dung.\n",
        "\n",
        "OUTPUT\n",
        "Ứng với mỗi cặp số (k, x) xuất ra màn hình số lớn nhất và nhỏ nhất trong dãy k số có giá trị gần với x nhất.\n",
        "\n",
        "nếu có nhiều dãy thõa yêu cầu, xuất ra dãy nằm gần phần đàu mảng A nhất.\n",
        "\n",
        "**Python code**\n",
        "\n",
        "\n"
      ],
      "metadata": {
        "id": "hw5yX8lVSLvx"
      }
    },
    {
      "cell_type": "markdown",
      "source": [
        ""
      ],
      "metadata": {
        "id": "wbTC8Q2BdDrs"
      }
    },
    {
      "cell_type": "code",
      "execution_count": null,
      "metadata": {
        "id": "4O7InQybPlwn"
      },
      "outputs": [],
      "source": [
        "import bisect\n",
        "from sys import stdin,stdout\n",
        "n=int(stdin.readline())\n",
        "arr_original = [int(i) for i in stdin.readline().split()]\n",
        "def find(a,k,x):\n",
        "    #index1=bisect.bisect_right(a,x)\n",
        "    if x<=a[0]:\n",
        "        return a[:k]\n",
        "    if x>=a[-1]:\n",
        "        return a[-k:]\n",
        "    index2=bisect.bisect_left(a,x)\n",
        "    low, high = index2, index2 + 1\n",
        "\n",
        "    A = []\n",
        "    if x - a[low] <= a[high] - x or a[low] == x:\n",
        "        A.append(a[low])\n",
        "        low-=1\n",
        "    else:\n",
        "        A.append(a[high])\n",
        "        high+=1\n",
        "    count = 1\n",
        "    while count<k:\n",
        "        if low < 0 and high < len(a) - 1:\n",
        "            A.append(a[high])\n",
        "            high += 1\n",
        "        elif low > 0 and high > len(a)-1:\n",
        "            A.append(a[low])\n",
        "            low -=1\n",
        "        else:\n",
        "            if x - a[low] <= a[high] - x:\n",
        "                A.append(a[low])\n",
        "                low-=1\n",
        "            else:\n",
        "                A.append(a[high])\n",
        "                high+=1\n",
        "        count+=1\n",
        "    return A\n",
        "\n",
        "\n",
        "try:\n",
        "    while True:\n",
        "        k,x = map(int, stdin.readline().split())\n",
        "        result=find(arr_original,k,x)\n",
        "        a=min(result)\n",
        "        b=max(result)\n",
        "        print(a,b)\n",
        "except:\n",
        "    exit()"
      ]
    }
  ]
}