{
  "nbformat": 4,
  "nbformat_minor": 0,
  "metadata": {
    "colab": {
      "name": "Chiều cao cây.ipynb",
      "provenance": []
    },
    "kernelspec": {
      "name": "python3",
      "display_name": "Python 3"
    },
    "language_info": {
      "name": "python"
    }
  },
  "cells": [
    {
      "cell_type": "markdown",
      "source": [
        "# **Chiều cao cây**\n",
        "Bạn Bình đã làm xong bài danh sách liên kết giờ chuyển qua bài cây nhị phân tìm kiếm. Hỏi nếu Bình đem danh sách đó nhập vào cây nhị phân tìm kiếm thì cây cao bao nhiêu?\n",
        "\n",
        "\n",
        "INPUT\n",
        "\n",
        "Input gồm nhiều dòng, mỗi dòng sẽ có cấu trúc ở 1 trong 4 dạng sau:\n",
        "\n",
        "- Dạng 0: Dòng bắt đầu bằng con số 0, theo sau là một số nguyên dương < 1000, chương trình cần phải thêm con số này vào đầu danh sách\n",
        "\n",
        "- Dạng 1: Dòng này bắt đầu bằng con số 1, theo sau là một số nguyên dương < 1000, chương trình cần phải thêm con số này vào cuối danh sách\n",
        "\n",
        "- Dạng 2: Dòng này bắt đầu bằng con số 2, theo sau là 2 số nguyên a, b < 1000, chương trình cần tìm vị trí đầu tiên mà số a xuất hiện trong danh sách, sau đó thêm số b vào sau số này. Nếu số a không có trong danh sách, thêm b vào đầu danh sách\n",
        "\n",
        "- Dạng 3: Dòng này bao gồm duy nhất một con số 3. Đây là dòng cuối cùng trong input, báo hiệu input kết thúc\n",
        "\n",
        "\n",
        "OUTPUT:\n",
        "\n",
        "Chiều cao của cây nhị phân tìm kiếm thu được khi lần lượt thêm các số trong danh sách vào cây.\n",
        "\n",
        "**Python code**\n",
        "\n",
        "\n"
      ],
      "metadata": {
        "id": "hw5yX8lVSLvx"
      }
    },
    {
      "cell_type": "markdown",
      "source": [
        ""
      ],
      "metadata": {
        "id": "wbTC8Q2BdDrs"
      }
    },
    {
      "cell_type": "code",
      "execution_count": null,
      "metadata": {
        "id": "4O7InQybPlwn"
      },
      "outputs": [],
      "source": [
        "import collections\n",
        "import sys\n",
        "class Node: \n",
        "\tdef __init__(self,key): \n",
        "\t\tself.left = None\n",
        "\t\tself.right = None\n",
        "\t\tself.val = key \n",
        "\n",
        "def insert(root,key): \n",
        "\tif root is None: \n",
        "\t\treturn Node(key) \n",
        "\telse: \n",
        "\t\tif root.val == key: \n",
        "\t\t\treturn root \n",
        "\t\telif root.val <key: \n",
        "\t\t\troot.right = insert(root.right, key) \n",
        "\t\telse: \n",
        "\t\t\troot.left = insert(root.left, key) \n",
        "\treturn root \n",
        "\n",
        "def inorder(root): \n",
        "\tif root: \n",
        "\t\tprint(root.val) \n",
        "\t\tinorder(root.left) \n",
        "\t\tinorder(root.right) \n",
        "def countLeaf(root,count): \n",
        "\tif root:\n",
        "\t\tcountLeaf(root.left,count)\n",
        "\t\tif root.right is None and root.left is None:\n",
        "\t\t\tcount.append(1)\n",
        "\t\tcountLeaf(root.right,count)\n",
        "\n",
        "def highOfTree(root, i,h):\n",
        "\tif root:\n",
        "\t\tif i>len(h):\n",
        "\t\t\th.append(1)\n",
        "\t\thighOfTree(root.left,i+1,h)\n",
        "\t\thighOfTree(root.right,i+1,h)\n",
        "llist=collections.deque([])\n",
        "\n",
        "while True:\n",
        "        line = sys.stdin.readline().rstrip('\\n')\n",
        "        if line == '3':\n",
        "            break\n",
        "        p=list(map(int, line.split()))\n",
        "        if p[0]==1:\n",
        "            llist.append(p[1])\n",
        "        elif p[0]==0:\n",
        "        \tllist.appendleft(p[1])\n",
        "        else:\n",
        "        \ttry:\n",
        "        \t\tindeX=llist.index(p[1])\n",
        "        \t\tllist.insert(indeX+1,p[2])\n",
        "        \texcept:\n",
        "        \t\tllist.append(p[2])\n",
        "\t\t\n",
        "h=[]\n",
        "\n",
        "r=Node(llist[0])\n",
        "for i in llist:\n",
        "\tr=insert(r,i)\n",
        "highOfTree(r,1,h)\n",
        "print(len(h))"
      ]
    }
  ]
}