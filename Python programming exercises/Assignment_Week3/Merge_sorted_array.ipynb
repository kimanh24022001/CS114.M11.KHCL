{
  "nbformat": 4,
  "nbformat_minor": 0,
  "metadata": {
    "colab": {
      "name": "Merge sorted array.ipynb",
      "provenance": []
    },
    "kernelspec": {
      "name": "python3",
      "display_name": "Python 3"
    },
    "language_info": {
      "name": "python"
    }
  },
  "cells": [
    {
      "cell_type": "markdown",
      "source": [
        "# **Merge sorted array**\n",
        "Cho 2 dãy số nguyên a có na số và b có nb số, mỗi dãy đã được sắp xếp theo thứ tự tăng dần. Hãy trộn hai dãy này lại để kết quả cuối cùng là một dãy tăng dần với  các phần tử là các phần tử của a và b.\n",
        "\n",
        "INPUT\n",
        "\n",
        "Dòng đầu tiên chứa kích thước của hai mảng nhập vào na, nb (0 < na, nb <= 100000)\n",
        "\n",
        "Hai dòng tiếp theo lần lượt chứa các phần tử của mảng a và b\n",
        "\n",
        "INPUT:\n",
        "\n",
        "4 5\n",
        "\n",
        "1 2 4 9\n",
        "\n",
        "8 10 20 22 30\n",
        "\n",
        "OUTPUT: 1 2 4 8 9 10 20 22 30\n",
        "\n",
        "**Python code**\n",
        "\n",
        "\n"
      ],
      "metadata": {
        "id": "hw5yX8lVSLvx"
      }
    },
    {
      "cell_type": "markdown",
      "source": [
        ""
      ],
      "metadata": {
        "id": "wbTC8Q2BdDrs"
      }
    },
    {
      "cell_type": "code",
      "execution_count": null,
      "metadata": {
        "id": "4O7InQybPlwn"
      },
      "outputs": [],
      "source": [
        "m,n=map(int,input().split())\n",
        "a=[]\n",
        "for x in list(map(int,input().split())):\n",
        "    a.append(x)\n",
        "for y in list(map(int,input().split())):\n",
        "    a.append(y)\n",
        "a.sort()\n",
        "for i in range(0,len(a)):\n",
        "\tprint(a[i],end=\" \")"
      ]
    }
  ]
}