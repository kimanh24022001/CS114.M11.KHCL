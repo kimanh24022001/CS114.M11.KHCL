{
  "nbformat": 4,
  "nbformat_minor": 0,
  "metadata": {
    "colab": {
      "name": "Online game .ipynb",
      "provenance": []
    },
    "kernelspec": {
      "name": "python3",
      "display_name": "Python 3"
    },
    "language_info": {
      "name": "python"
    }
  },
  "cells": [
    {
      "cell_type": "markdown",
      "source": [
        "# **Online game**\n",
        "Khi làm việc với yêu cầu tìm kiếm, chúng ta có thể sử dụng thuật toán tìm kiếm nhị phân. Tuy nhiên thuật toán tìm kiếm nhị phân chỉ có thể chạy trên cấu trúc dữ liệu mảng và mảng đó phải được sắp xếp thứ tự. Việc sắp xếp thường có độ phức tạp khá cao, điển hình là trong trường hợp sau đây:\n",
        "\n",
        "Giả định công ty NaViGame đang duy trì một hệ thống server rất lớn đáp ứng cho hàng chục triệu acccount của các game thủ. Hệ thông server này duy trì một danh sách các game thủ đang online cho phép nhà quản trị có thể kiểm tra xem một game thủ bất kỳ nào đó có đang online hay không. Hãy giúp công ty NaViGame xây dựng module kiểm tra game thủ online này.\n",
        "\n",
        "INPUT\n",
        "Mỗi dòng của input chứa hai con số a và b. Số a có giá trị là 1 hoặc 2 đại diện cho hai tình huống là có game thủ đăng nhập vào hệ thống và người quản trị vừa nhập một yêu cầu kiểm tra. Số b là mã số của game thủ trong tình huống đó (giá trị b không quá 1 tỷ).\n",
        "\n",
        "Ví dụ như dòng: 1 565481 cho biết game thủ với mã số 465481 vừa mới đăng nhập vào hệ thống\n",
        "\n",
        "dòng: 2 87126 cho biết người quản trị muốn kiểm tra xem game thủ với mã số 87126 có đang online trong hệ thống hay không.\n",
        "\n",
        "Input sẽ kết thúc bằng dòng chỉ chứa một số 0.\n",
        "\n",
        "OUTPUT\n",
        "Ứng với mỗi yêu cầu kiểm tra của nhà quản trị xuất ra trên một dòng giá trị 0 nếu game thủ đó không online. Nếu game thủ đang online, xuất ra 1\n",
        "\n",
        "**Python code**\n",
        "\n",
        "\n"
      ],
      "metadata": {
        "id": "hw5yX8lVSLvx"
      }
    },
    {
      "cell_type": "markdown",
      "source": [
        ""
      ],
      "metadata": {
        "id": "wbTC8Q2BdDrs"
      }
    },
    {
      "cell_type": "code",
      "execution_count": null,
      "metadata": {
        "id": "4O7InQybPlwn"
      },
      "outputs": [],
      "source": [
        "import sys\n",
        "userInput=[]\n",
        "store={-99}\n",
        "while True:\n",
        "    line = sys.stdin.readline().rstrip('\\n')\n",
        "    if line == '0':\n",
        "        break\n",
        "    i, j =map(int,line.split())\n",
        "    if i==1:\n",
        "        store.add(j)\n",
        "    else:\n",
        "        if j in store:\n",
        "            print(1)\n",
        "        else:\n",
        "            print(0)"
      ]
    }
  ]
}