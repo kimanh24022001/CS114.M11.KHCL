{
  "nbformat": 4,
  "nbformat_minor": 0,
  "metadata": {
    "colab": {
      "name": "Tìm số gần nhất.ipynb",
      "provenance": []
    },
    "kernelspec": {
      "name": "python3",
      "display_name": "Python 3"
    },
    "language_info": {
      "name": "python"
    }
  },
  "cells": [
    {
      "cell_type": "markdown",
      "source": [
        "# **Tìm số gần nhất**\n",
        "Cho mảng số nguyên A đã sắp xếp tăng dần, tìm trong mảng k số có giá trị gần với giá trị x nhất.\n",
        "\n",
        "INPUT\n",
        "Dòng đầu tiên cho biết số phần tử của mảng\n",
        "\n",
        "Dòng thứ 2 là toàn bộ mảng liệt kê trên một hàng, các phần tử cách nhau bởi khoảng trắng\n",
        "\n",
        "Dòng cuối cùng lần lượt là 02 số k và x\n",
        "\n",
        "OUTPUT\n",
        "k số có giá trị gần với x nhất trong mảng. Các số này được xuất theo thứ tự tăng dần (trong trường hợp mảng có nhiều số có cùng khoảng cách tới x, ưu tiên chọn số có giá trị nhỏ hơn)\n",
        "\n",
        "**Python code**\n",
        "\n",
        "\n"
      ],
      "metadata": {
        "id": "hw5yX8lVSLvx"
      }
    },
    {
      "cell_type": "markdown",
      "source": [
        ""
      ],
      "metadata": {
        "id": "wbTC8Q2BdDrs"
      }
    },
    {
      "cell_type": "code",
      "execution_count": null,
      "metadata": {
        "id": "4O7InQybPlwn"
      },
      "outputs": [],
      "source": [
        "n=int(input())\n",
        "a=[]\n",
        "b=[]\n",
        "for i in list(map(int, input().split())):\n",
        "    a.append(i)\n",
        "k,x=map(int,input().split())\n",
        "point=-1\n",
        "finish=0\n",
        "if x>=a[n-1]:\n",
        "\tfor j in range(n-k,n):\n",
        "\t     print(a[j],end=\" \")\n",
        "\t     finish=1\n",
        "if x<=a[0]:\n",
        "\tfor j in range(0,k):\n",
        "\t     print(a[j],end=\" \")\n",
        "\t     finish=1\n",
        "if finish==0:\t     \n",
        "\tfor j in range(0,n):\n",
        "\t     if x>=a[j] and x<=a[j+1]:\n",
        "      \t\tpoint=j\n",
        "      \t\tbreak\n",
        "\n",
        "if point>=0:\t  \n",
        "\tcount=0\n",
        "\ti=point\n",
        "\tj=point+1\n",
        "\twhile count<k:\n",
        "\t\tif i<0 and j>=n:\n",
        "\t\t\tbreak\n",
        "\t\tif i<0 and j<n:\n",
        "\t\t\tb.append(a[j] )\n",
        "\t\t\tcount=count+1\n",
        "\t\t\tif count>k:\n",
        "\t\t\t\tbreak\n",
        "\t\t\tj=j+1\n",
        "\t\tif j>(n-1) and i>=0:\n",
        "\t\t\tb.append(a[i] )\n",
        "\t\t\tcount=count+1\n",
        "\t\t\tif count>k:\n",
        "\t\t\t\tbreak\n",
        "\t\t\ti=i-1\n",
        "\t\tif abs(a[i]-x)<=abs(a[j]-x) and i>-1 and j<n:\n",
        "\t\t\tb.append(a[i])\n",
        "\t\t\tcount=count+1\n",
        "\t\t\tif count>k:\n",
        "\t\t\t\tbreak\n",
        "\t\t\ti=i-1\n",
        "\t\tif abs(a[i]-x)>abs(a[j]-x) and j<n and i>-1:\n",
        "\t\t\tb.append(a[j])\n",
        "\t\t\tcount=count+1\n",
        "\t\t\tif count>k:\n",
        "\t\t\t\tbreak\n",
        "\t\t\tj=j+1\n",
        "b.sort()\n",
        "for t in range(0,len(b)):\n",
        "\tprint(b[t],end=\" \")"
      ]
    }
  ]
}