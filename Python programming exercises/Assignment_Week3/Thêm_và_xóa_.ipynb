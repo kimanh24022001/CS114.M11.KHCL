{
  "nbformat": 4,
  "nbformat_minor": 0,
  "metadata": {
    "colab": {
      "name": "Thêm và xóa .ipynb",
      "provenance": []
    },
    "kernelspec": {
      "name": "python3",
      "display_name": "Python 3"
    },
    "language_info": {
      "name": "python"
    }
  },
  "cells": [
    {
      "cell_type": "markdown",
      "source": [
        "# **Thêm và xóa**\n",
        "Không chỉ thuận tiện khi bổ sung phần tử, danh sách liên kết còn hiệu quả khi xóa bỏ phần tử ở đầu danh sách, cuối danh sách hoặc một vị trí đã xác định trong danh sách.\n",
        "\n",
        "Hãy viết chương trình thực hiện các thao tác trên:\n",
        "\n",
        "INPUT\n",
        "Input gồm nhiều dòng, mỗi dòng sẽ có cấu trúc ở một trong 7 dạng sau:\n",
        "\n",
        "- Dạng 0: Dòng bắt đầu bằng con số 0, theo sau là một số nguyên dương < 1000, chương trình cần phải thêm con số này vào đầu danh sách\n",
        "- Dạng 1: Dòng này bắt đầu bằng con số 1, theo sau là một số nguyên dương < 1000, chương trình cần phải thêm con số này vào cuối danh sách\n",
        "- Dạng 2: Dòng này bắt đầu bằng con số 2, theo sau là 2 số nguyên a, b < 1000, chương trình cần tìm vị trí đầu tiên mà số a xuất hiện trong danh sách, sau đó thêm số b vào sau số này. Nếu số a không có trong danh sách, thêm b vào đầu danh sách\n",
        "- Dạng 3: Dòng này bắt đầu bằng con số 3, theo sau là một số nguyên dương n < 1000. Chương trình cần tìm số n đầu tiên trong danh sách và xóa số này.\n",
        "- Dạng 4: Dòng này bắt đầu bằng con số 4, theo sau là một số nguyên dương n < 1000. Chương trình cần xóa tất cả số mang giá trị n ra khỏi danh sách.\n",
        "- Dạng 5: Dòng này bao gồm con số 5, khi gặp dòng này, chương trình sẽ xóa số đầu tiên trong danh sách.\n",
        "- Dạng 6: Dòng này bao gồm một con số 6. Đây là dòng cuối cùng trong input, báo hiệu input kết thúc\n",
        "OUTPUT\n",
        "In danh sách thu được sau khi thực hiện tất cả các thao tác theo yêu cầu trong input. Danh sách được in trên một dòng với mỗi số cách nhau bởi khoảng trắng. Nếu danh sách rỗng, xuất ra chữ “blank” (không có ngoặc kép)\n",
        "\n",
        "**Python code**\n",
        "\n",
        "\n"
      ],
      "metadata": {
        "id": "hw5yX8lVSLvx"
      }
    },
    {
      "cell_type": "markdown",
      "source": [
        ""
      ],
      "metadata": {
        "id": "wbTC8Q2BdDrs"
      }
    },
    {
      "cell_type": "code",
      "execution_count": null,
      "metadata": {
        "id": "4O7InQybPlwn"
      },
      "outputs": [],
      "source": [
        "import sys\n",
        "b=[]\n",
        "while True:\n",
        "    line = sys.stdin.readline().rstrip('\\n')\n",
        "    if line == '6':\n",
        "        break\n",
        "    a=list(map(int, line.split()))\n",
        "    if a[0]==0:\n",
        "        b.insert(0,a[1])\n",
        "    elif a[0]==1:\n",
        "        b.append(a[1])\n",
        "    elif a[0]==3:\n",
        "        if a[1] in b:\n",
        "            b.remove(a[1])\n",
        "    elif a[0]==4:\n",
        "        while a[1] in b:\n",
        "            b.remove(a[1])\n",
        "    elif a[0]==5:\n",
        "        if len(b)!=0:\n",
        "            b.pop(0)\n",
        "    else:\n",
        "        if a[1] in b:\n",
        "            index = b.index(a[1] )\n",
        "            b.insert(index+1,a[2])\n",
        "        else:\n",
        "            b.insert(0,a[2])\n",
        "for i in b:\n",
        "    print(i,end=\" \")\n",
        "if len(b)==0:\n",
        "    print('blank')"
      ]
    }
  ]
}