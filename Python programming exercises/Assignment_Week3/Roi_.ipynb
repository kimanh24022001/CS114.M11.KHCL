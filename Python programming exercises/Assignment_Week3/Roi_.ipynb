{
  "nbformat": 4,
  "nbformat_minor": 0,
  "metadata": {
    "colab": {
      "name": "Roi .ipynb",
      "provenance": []
    },
    "kernelspec": {
      "name": "python3",
      "display_name": "Python 3"
    },
    "language_info": {
      "name": "python"
    }
  },
  "cells": [
    {
      "cell_type": "markdown",
      "source": [
        "\n",
        "# **ROI (region of interest)**\n",
        "Trong xử lý ảnh y khoa, người ta đôi lúc chỉ quan tâm đến một vùng nhỏ của bức ảnh. Với đầu vào là một bức ảnh nhị phân I với các điểm màu trắng (nhận giá trị 1) thể hiện các vùng tế bào có khả năng bị ung thư, các vùng màu đen (nhận giá trị 0) là các vùng không có dấu hiệu của ung thư. Biết chiều cao và chiều rộng của ảnh, hãy giúp các bác sĩ xác định các tế bào có khả năng bị ung thư trong vùng quan tâm của họ biết tọa độ góc trái trên và phải dưới của vùng này lần lượt là (top, left) và (bottom, right).\n",
        "\n",
        "INPUT\n",
        "\n",
        "h, w: lần lượt là chiều cao vào chiều rộng của ảnh\n",
        "\n",
        "h dòng tiếp theo, mỗi dòng chứa w số nhận giá trị là 0 hoặc 1 chính là bức ảnh các bác sĩ đang xem xét\n",
        "\n",
        "top, left, bottom, right: lần lượt là toạ độ trên, trái, phải, dưới của vùng được quan tâm\n",
        "\n",
        "OUTPUT\n",
        "\n",
        "Một bức ảnh nhị phân có kích thước (h,w) tương tự ảnh đầu vào với các tế bào ung thư nằm ngoài vùng quan tâm được chuyển thành giá trị 0 (màu đen)\n",
        "\n",
        "**Python code**\n",
        "\n",
        "\n"
      ],
      "metadata": {
        "id": "hw5yX8lVSLvx"
      }
    },
    {
      "cell_type": "markdown",
      "source": [
        ""
      ],
      "metadata": {
        "id": "wbTC8Q2BdDrs"
      }
    },
    {
      "cell_type": "code",
      "execution_count": null,
      "metadata": {
        "id": "4O7InQybPlwn"
      },
      "outputs": [],
      "source": [
        "m,n=map(int,input().split())\n",
        "b=[]\n",
        "for i in range(0,m):\n",
        "\tb.append(input().split())\n",
        "top, left, bottom, right=map(int,input().split())\n",
        "for i in range(0,m):\n",
        "\tif (i<top or i>bottom):\n",
        "\t\tprint('0 '*n)\n",
        "\telse:\n",
        "\t\tprint('0 '*left,end='')\n",
        "\t\tfor j in range(left,right+1):\n",
        "\t\t\tprint(b[i][j],end=\" \")\n",
        "\t\tprint('0 '*(n-right-1),end=\" \")\n",
        "\tprint('')"
      ]
    }
  ]
}