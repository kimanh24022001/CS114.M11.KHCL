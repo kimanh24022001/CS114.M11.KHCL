{
  "nbformat": 4,
  "nbformat_minor": 0,
  "metadata": {
    "colab": {
      "name": "Reshape matrix .ipynb",
      "provenance": []
    },
    "kernelspec": {
      "name": "python3",
      "display_name": "Python 3"
    },
    "language_info": {
      "name": "python"
    }
  },
  "cells": [
    {
      "cell_type": "markdown",
      "source": [
        "# **Reshape matrix**\n",
        "Cho một ma trận có kích thước mxn và hai biến r,c tương ứng với số dòng và số cột muốn reshape.\n",
        "\n",
        "Ma trận được reshape có kích thước rxc và được điền đầy đủ các phần tử của ma trận gốc theo chiều ngang.\n",
        "\n",
        "Nếu có thể reshape được ma trận, xuất ra ma trận mới.\n",
        "\n",
        "Ngược lại, xuất ma trận gốc.\n",
        "\n",
        " \n",
        "\n",
        "INPUT:\n",
        "\n",
        "Dòng đầu tiên gồm hai số nguyên dương \n",
        "n\n",
        ",\n",
        "m\n",
        " \n",
        "(\n",
        "2\n",
        "≤\n",
        "n\n",
        ",\n",
        "m\n",
        "≤\n",
        "3000\n",
        ")\n",
        " — Theo thứ tự là số hàng,cột của ma trận gốc.\n",
        "\n",
        "Dòng thứ hai gồm hai số nguyên dương \n",
        "r\n",
        ",\n",
        "c\n",
        " — Theo thứ tự là số hàng,cột của ma trận muốn reshape thành.\n",
        "\n",
        "n\n",
        " dòng tiếp theo là giá trị từng hàng của ma trận gốc  \n",
        "a\n",
        "1\n",
        ",\n",
        "a\n",
        "2\n",
        ",\n",
        ".\n",
        ".\n",
        ".\n",
        ",\n",
        "a\n",
        "m\n",
        "(\n",
        "−\n",
        "10\n",
        "5\n",
        "≤\n",
        "a\n",
        "i\n",
        "≤\n",
        "10\n",
        "5\n",
        ")\n",
        " — Các phần tử cách nhau một khoảng trắng.\n",
        "\n",
        " \n",
        "\n",
        "OUTPUT:\n",
        "\n",
        "Nếu có thể reshape được ma trận, xuất ra ma trận mới.\n",
        "\n",
        "Ngược lại, xuất ma trận gốc.\n",
        "\n",
        "**Python code**\n",
        "\n",
        "\n"
      ],
      "metadata": {
        "id": "hw5yX8lVSLvx"
      }
    },
    {
      "cell_type": "markdown",
      "source": [
        ""
      ],
      "metadata": {
        "id": "wbTC8Q2BdDrs"
      }
    },
    {
      "cell_type": "code",
      "execution_count": null,
      "metadata": {
        "id": "4O7InQybPlwn"
      },
      "outputs": [],
      "source": [
        "m,n=(map(int,input().split()))\n",
        "r,c=(map(int,input().split()))\n",
        "a=[]\n",
        "for i in range(0,m):\n",
        "\tp=input()\n",
        "\tfor x in list(map(int,p.split())):\n",
        "\t\ta.append(x)\n",
        "count=0\n",
        "b=[]\n",
        "ch=[]\n",
        "if m*n==c*r:\n",
        "\tfor j in range(0,r):\n",
        "\t\tfor t in range(0,c):\n",
        "\t\t\tif t!=c-1:\n",
        "\t\t\t\tprint(a[count],end=\" \")\n",
        "\t\t\telse:\n",
        "\t\t\t\tprint(a[count])\n",
        "\t\t\tcount=count+1\n",
        "\t\t\t \n",
        "else:\n",
        "\tfor j in range(0,m):\n",
        "\t\tfor t in range(0,n):\n",
        "\t\t\tif t!=n-1:\n",
        "\t\t\t\tprint(a[count],end=\" \")\n",
        "\t\t\telse:\n",
        "\t\t\t\tprint(a[count])\n",
        "\t\t\tcount=count+1\n",
        "\t\n",
        "\t"
      ]
    }
  ]
}